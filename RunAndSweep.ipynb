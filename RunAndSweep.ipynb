{
 "cells": [
  {
   "cell_type": "markdown",
   "metadata": {},
   "source": [
    "# Rundown and Sweep Analysis\n",
    "\n",
    "This notebook runs through a single data set's algorithms and reports on the results.\n",
    "\n",
    "Data set in operation:"
   ]
  },
  {
   "cell_type": "code",
   "execution_count": null,
   "metadata": {
    "collapsed": false
   },
   "outputs": [],
   "source": [
    "dataset = Sys.getenv(\"LK_DATASET\")\n",
    "dataset"
   ]
  },
  {
   "cell_type": "markdown",
   "metadata": {},
   "source": [
    "## Setup\n",
    "\n",
    "First, we need to load useful packages."
   ]
  },
  {
   "cell_type": "code",
   "execution_count": null,
   "metadata": {
    "collapsed": false
   },
   "outputs": [],
   "source": [
    "library(dplyr)\n",
    "library(ggplot2)"
   ]
  },
  {
   "cell_type": "code",
   "execution_count": null,
   "metadata": {
    "collapsed": false
   },
   "outputs": [],
   "source": [
    "options(repr.plot.width=7, repr.plot.height=5)"
   ]
  },
  {
   "cell_type": "markdown",
   "metadata": {},
   "source": [
    "Then we can set up the file names for the input data itself."
   ]
  },
  {
   "cell_type": "code",
   "execution_count": null,
   "metadata": {
    "collapsed": true
   },
   "outputs": [],
   "source": [
    "common.fn = sprintf('build/common-%s.csv', dataset)\n",
    "iicf.fn = sprintf('build/sweep-item-item-%s.csv', dataset)\n",
    "svd.fn = sprintf('build/sweep-funksvd-%s.csv', dataset)"
   ]
  },
  {
   "cell_type": "markdown",
   "metadata": {},
   "source": [
    "## Common Algorithms\n",
    "\n",
    "For every data set, we run some common algorithms. Load the data!"
   ]
  },
  {
   "cell_type": "code",
   "execution_count": null,
   "metadata": {
    "collapsed": false
   },
   "outputs": [],
   "source": [
    "common.results = read.csv(common.fn)\n",
    "head(common.results)"
   ]
  },
  {
   "cell_type": "markdown",
   "metadata": {},
   "source": [
    "Because we cross-validated the data, we have multiple partitions per algorithm.  Let's box-plot some metrics!"
   ]
  },
  {
   "cell_type": "code",
   "execution_count": null,
   "metadata": {
    "collapsed": false,
    "scrolled": true
   },
   "outputs": [],
   "source": [
    "ggplot(common.results) +\n",
    "    aes(x=Algorithm, y=RMSE.ByUser) +\n",
    "    geom_boxplot() +\n",
    "    ggtitle(\"Per-user RMSE\")"
   ]
  },
  {
   "cell_type": "code",
   "execution_count": null,
   "metadata": {
    "collapsed": false
   },
   "outputs": [],
   "source": [
    "ggplot(common.results) +\n",
    "    aes(x=Algorithm, y=Predict.nDCG) +\n",
    "    geom_boxplot() +\n",
    "    ggtitle(\"Predict nDCG (rank effectiveness)\")"
   ]
  },
  {
   "cell_type": "code",
   "execution_count": null,
   "metadata": {
    "collapsed": false
   },
   "outputs": [],
   "source": [
    "ggplot(common.results) +\n",
    "    aes(x=Algorithm, y=MRR) +\n",
    "    geom_boxplot() +\n",
    "    ggtitle(\"Mean Reciprocal Rank\")"
   ]
  },
  {
   "cell_type": "code",
   "execution_count": null,
   "metadata": {
    "collapsed": false
   },
   "outputs": [],
   "source": [
    "ggplot(common.results) +\n",
    "    aes(x=Algorithm, y=MAP) +\n",
    "    geom_boxplot() +\n",
    "    ggtitle(\"Mean Average Precision\")"
   ]
  },
  {
   "cell_type": "markdown",
   "metadata": {},
   "source": [
    "## Sweeping Item-Item Parameters\n",
    "\n",
    "This next experiment runs a grid search of a couple of item-item parameters."
   ]
  },
  {
   "cell_type": "code",
   "execution_count": null,
   "metadata": {
    "collapsed": false
   },
   "outputs": [],
   "source": [
    "itemitem.data = read.csv(iicf.fn)\n",
    "head(itemitem.data)"
   ]
  },
  {
   "cell_type": "code",
   "execution_count": null,
   "metadata": {
    "collapsed": false
   },
   "outputs": [],
   "source": [
    "itemitem.agg = itemitem.data %>%\n",
    "    group_by(Algorithm, NNbrs, Normalization) %>%\n",
    "    summarize(Count=n(),\n",
    "              RMSE=mean(RMSE.ByUser),\n",
    "              Predict.nDCG=mean(Predict.nDCG),\n",
    "              TopN.nDCG=mean(TopN.nDCG),\n",
    "              MAP=mean(MAP),\n",
    "              MRR=mean(MRR))\n",
    "head(itemitem.agg)"
   ]
  },
  {
   "cell_type": "code",
   "execution_count": null,
   "metadata": {
    "collapsed": false
   },
   "outputs": [],
   "source": [
    "ggplot(itemitem.agg) +\n",
    "    aes(x=NNbrs, y=RMSE, color=Normalization) +\n",
    "    geom_line() + geom_point() +\n",
    "    ggtitle(\"RMSE by neighborhood size\")"
   ]
  },
  {
   "cell_type": "code",
   "execution_count": null,
   "metadata": {
    "collapsed": false
   },
   "outputs": [],
   "source": [
    "ggplot(itemitem.agg) +\n",
    "    aes(x=NNbrs, y=Predict.nDCG, color=Normalization) +\n",
    "    geom_line() + geom_point() +\n",
    "    ggtitle(\"Predict NDCG by neighborhood size\")"
   ]
  },
  {
   "cell_type": "code",
   "execution_count": null,
   "metadata": {
    "collapsed": false
   },
   "outputs": [],
   "source": [
    "ggplot(itemitem.agg) +\n",
    "    aes(x=NNbrs, y=MRR, color=Normalization) +\n",
    "    geom_line() + geom_point() +\n",
    "    ggtitle(\"MRR by neighborhood size\")"
   ]
  },
  {
   "cell_type": "code",
   "execution_count": null,
   "metadata": {
    "collapsed": false
   },
   "outputs": [],
   "source": [
    "ggplot(itemitem.agg) +\n",
    "    aes(x=NNbrs, y=MAP, color=Normalization) +\n",
    "    geom_line() + geom_point() +\n",
    "    ggtitle(\"MAP by neighborhood size\")"
   ]
  },
  {
   "cell_type": "markdown",
   "metadata": {},
   "source": [
    "## Sweeping FunkSVD Parameters\n",
    "\n",
    "This next experiment runs a grid search of a couple of FunkSVD parameters."
   ]
  },
  {
   "cell_type": "code",
   "execution_count": null,
   "metadata": {
    "collapsed": false
   },
   "outputs": [],
   "source": [
    "svd.data = read.csv(svd.fn)\n",
    "head(svd.data)"
   ]
  },
  {
   "cell_type": "code",
   "execution_count": null,
   "metadata": {
    "collapsed": false
   },
   "outputs": [],
   "source": [
    "svd.agg = svd.data %>%\n",
    "    group_by(Algorithm, NFeatures, Regularization=as.factor(Regularization)) %>%\n",
    "    summarize(Count=n(),\n",
    "              RMSE=mean(RMSE.ByUser),\n",
    "              Predict.nDCG=mean(Predict.nDCG),\n",
    "              TopN.nDCG=mean(TopN.nDCG),\n",
    "              MAP=mean(MAP),\n",
    "              MRR=mean(MRR))\n",
    "head(svd.agg)"
   ]
  },
  {
   "cell_type": "code",
   "execution_count": null,
   "metadata": {
    "collapsed": false
   },
   "outputs": [],
   "source": [
    "ggplot(svd.agg) +\n",
    "    aes(x=NFeatures, y=RMSE, color=Regularization) +\n",
    "    geom_line() + geom_point() +\n",
    "    ggtitle(\"RMSE by feature count\")"
   ]
  },
  {
   "cell_type": "code",
   "execution_count": null,
   "metadata": {
    "collapsed": false
   },
   "outputs": [],
   "source": [
    "ggplot(svd.agg) +\n",
    "    aes(x=NFeatures, y=Predict.nDCG, color=Regularization) +\n",
    "    geom_line() + geom_point() +\n",
    "    ggtitle(\"Predict nDCG by feature count\")"
   ]
  },
  {
   "cell_type": "code",
   "execution_count": null,
   "metadata": {
    "collapsed": false
   },
   "outputs": [],
   "source": [
    "ggplot(svd.agg) +\n",
    "    aes(x=NFeatures, y=MRR, color=Regularization) +\n",
    "    geom_line() + geom_point() +\n",
    "    ggtitle(\"MRR by feature count\")"
   ]
  },
  {
   "cell_type": "code",
   "execution_count": null,
   "metadata": {
    "collapsed": false
   },
   "outputs": [],
   "source": [
    "ggplot(svd.agg) +\n",
    "    aes(x=NFeatures, y=MAP, color=Regularization) +\n",
    "    geom_line() + geom_point() +\n",
    "    ggtitle(\"MAP by feature count\")"
   ]
  },
  {
   "cell_type": "code",
   "execution_count": null,
   "metadata": {
    "collapsed": true
   },
   "outputs": [],
   "source": []
  }
 ],
 "metadata": {
  "kernelspec": {
   "display_name": "R",
   "language": "R",
   "name": "ir"
  },
  "language_info": {
   "codemirror_mode": "r",
   "file_extension": ".r",
   "mimetype": "text/x-r-source",
   "name": "R",
   "pygments_lexer": "r",
   "version": "3.2.2"
  }
 },
 "nbformat": 4,
 "nbformat_minor": 0
}
